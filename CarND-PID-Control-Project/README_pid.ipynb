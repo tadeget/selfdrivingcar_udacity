{
 "cells": [
  {
   "cell_type": "markdown",
   "metadata": {},
   "source": [
    "# **Udacity Self-Driving Car Enginer Nanodegree - *PID Control Project***\n",
    "\n",
    "## Introduction\n",
    "\n",
    "The purpose of this project is to design a PID controller and tune its hyperparameters to drive the car on the center of the lane as much as possible. The simulator provides cross-track error (CTE), speed, and steering angle data, while the implemented PID controller  provides the appropriate steering and throttle commands to drive the car reliably on the track.\n",
    "\n",
    "\n",
    "## Dependencies\n",
    "\n",
    "* cmake >= 3.5\n",
    " * All OSes: [click here for installation instructions](https://cmake.org/install/)\n",
    "* make >= 4.1\n",
    "  * Linux: make is installed by default on most Linux distros\n",
    "  * Mac: [install Xcode command line tools to get make](https://developer.apple.com/xcode/features/)\n",
    "  * Windows: [Click here for installation instructions](http://gnuwin32.sourceforge.net/packages/make.htm)\n",
    "* gcc/g++ >= 5.4\n",
    "  * Linux: gcc / g++ is installed by default on most Linux distros\n",
    "  * Mac: same deal as make - [install Xcode command line tools]((https://developer.apple.com/xcode/features/)\n",
    "  * Windows: recommend using [MinGW](http://www.mingw.org/)\n",
    "* [uWebSockets](https://github.com/uWebSockets/uWebSockets) == 0.13, but the master branch will probably work just fine\n",
    "  * Follow the instructions in the [uWebSockets README](https://github.com/uWebSockets/uWebSockets/blob/master/README.md) to get setup for your platform. You can download the zip of the appropriate version from the [releases page](https://github.com/uWebSockets/uWebSockets/releases). Here's a link to the [v0.13 zip](https://github.com/uWebSockets/uWebSockets/archive/v0.13.0.zip).\n",
    "  * If you run OSX and have homebrew installed you can just run the ./install-mac.sh script to install this\n",
    "* Simulator. You can download these from the [project intro page](https://github.com/udacity/CarND-PID-Control-Project/releases) in the classroom.\n",
    "\n",
    "## Basic Build Instructions\n",
    "\n",
    "1. Clone this repo.\n",
    "2. Make a build directory: `mkdir build && cd build`\n",
    "3. Compile: `cmake .. && make`\n",
    "4. Run it: `./pid`. \n",
    "\n",
    "\n",
    "## Rubric Discussion Points\n",
    "\n",
    "- *Describe the effect each of the P, I, D components had in your implementation.*\n",
    "\n",
    "As the name suggests, the proportinal (P) component of a PID controller multplies the control signal (here the steering angle and the throttle) with a constant by substacting the  current postion of the vehicle from the center of the lane and the current speed from the reference speed of the vehicle. Since it is directily prepostinal to the error, the P value affects how fast and by how much the controller updates the control signal, i.e. if the vehicle speed differse from the refernce speed by a large among, then the P control repsonsd by updating the control signal by a large number.\n",
    "\n",
    "The diffrential (D) componts of a PID controller updates the control signal based on the error derivative that helps to minimize ossilation, i.e. if the error is changing slowly then the contribution of the PID controller is to minimize the overal control signal since we are going in the right direction and vice-versa.\n",
    "\n",
    "The integral (I) compontes of the PID controler update the control signal by accomulating error, hence helps to avoid bias (stead state) error. \n",
    "\n",
    "The final PID controller implementation for speed of 35 mph, 50 mph is shown below. From the video it is clear that as the refence speed changes the PID controller values have to be updated. Otherwise, the vehicle will crash. \n",
    "\n",
    "\n",
    "[Final Parameters 35mph](.//out-pid_35.mp4)\n",
    "\n",
    "[Final Parameters 50mph](./PID/out-pid_50.mp4)\n",
    "\n",
    "The following video shows the effect of the D term. By setting the value D=0, we can see that the vehicle ossilate and becomes out of control.\n",
    "\n",
    "[D Parameter Removed](video/out-pid_D_zero.mp4)\n",
    "\n",
    "\n",
    "- *Describe how the final hyperparameters were chosen.*\n",
    "\n",
    " PID contoller for both steering and throttle controler has been implmented, however, as it is somehow difficult to reset the vehicle postion, the implementation of the Twiddle algorithm has not been attempted. I have manually tuned the hyperparmeters for both PID controlers following a similar procedure. First, the P value is tuned to obtain a reasonable response. Then by modifying the P value till the vehicle ossialte and at the same time adjusting the D value, the P and D value were tunned. Finally, to minimize bias the I value has been tunned. The final PID value obtined  for the steering controller is: P=-0.15,D=-3, I=-0.0002. And the final PID value obtained for the throttle controller is : P=-0.2. D= -5, I=-0.0003."
   ]
  },
  {
   "cell_type": "markdown",
   "metadata": {},
   "source": []
  }
 ],
 "metadata": {
  "kernelspec": {
   "display_name": "Python 2",
   "language": "python",
   "name": "python2"
  },
  "language_info": {
   "codemirror_mode": {
    "name": "ipython",
    "version": 2
   },
   "file_extension": ".py",
   "mimetype": "text/x-python",
   "name": "python",
   "nbconvert_exporter": "python",
   "pygments_lexer": "ipython2",
   "version": "2.7.15"
  }
 },
 "nbformat": 4,
 "nbformat_minor": 2
}
